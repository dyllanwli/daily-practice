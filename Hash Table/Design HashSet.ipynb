{
 "cells": [
  {
   "cell_type": "raw",
   "metadata": {},
   "source": [
    "A lot of people don't follow the rules and aren't interested in learning. This implementation was based on some data structures concepts and what I've read about Python's dict implementation.\n",
    "\n",
    "The underlying structure that my hash set uses is a list. The list simply contains a key at the index the key is hashed to, unless there are multiple keys at the same index (ie a collision). More on that later...\n",
    "\n",
    "My hashset is designed to use a limited amount of memory, but expands itself by a factor of 2 when the load factor (size divided by array spots) exceeds 2/3. This will allow for O(1) operations on average. The downside to this is that every time the hashset doubles, it has to create a new list and rehash every element which takes O(n) each time. The average time will be O(1) for each add call as the cost of rehashing the set is amortized over the calls.\n",
    "\n",
    "Open addressing and chaining each have their own advantages and disadvantages. I'm not going to explain the nuances of the methods, but know that chaining hash sets/tables have the head of a linked list of keys in each array spot, while open addressing just moves the key to an empty index.\n",
    "\n",
    "I used open addressing for this problem. If we add an element that is hashed to the same index as another key, then we apply a secondary operation on the index until we find an empty spot (or a previously removed spot). This is called double hashing. The formula I used is similar to that of the Python dict implementation, but without the perturb part. This is better than linear probing since the hash function (which just mods the key by the capacity of the list) is likely to fill contiguous array spots and double hashing makes the probability of finding an empty spot more uniform in those cases than linear probing.\n",
    "\n",
    "For removing, the removed element is replaced by a tombstone so that the contains function won't get messed up when the path to an existing element has an empty spot in it, causing the contains function to return false. The add function will know that tombstones are able to be replaced by new elements."
   ]
  },
  {
   "cell_type": "code",
   "execution_count": 4,
   "metadata": {},
   "outputs": [
    {
     "ename": "SyntaxError",
     "evalue": "can't assign to literal (<ipython-input-4-0f32ca7c52cf>, line 1)",
     "output_type": "error",
     "traceback": [
      "\u001b[0;36m  File \u001b[0;32m\"<ipython-input-4-0f32ca7c52cf>\"\u001b[0;36m, line \u001b[0;32m1\u001b[0m\n\u001b[0;31m    8 <<= 1\u001b[0m\n\u001b[0m           ^\u001b[0m\n\u001b[0;31mSyntaxError\u001b[0m\u001b[0;31m:\u001b[0m can't assign to literal\n"
     ]
    }
   ],
   "source": [
    "8 <<= 1"
   ]
  },
  {
   "cell_type": "code",
   "execution_count": null,
   "metadata": {},
   "outputs": [],
   "source": []
  }
 ],
 "metadata": {
  "kernelspec": {
   "display_name": "Python 3",
   "language": "python",
   "name": "python3"
  },
  "language_info": {
   "codemirror_mode": {
    "name": "ipython",
    "version": 3
   },
   "file_extension": ".py",
   "mimetype": "text/x-python",
   "name": "python",
   "nbconvert_exporter": "python",
   "pygments_lexer": "ipython3",
   "version": "3.7.1"
  }
 },
 "nbformat": 4,
 "nbformat_minor": 2
}
