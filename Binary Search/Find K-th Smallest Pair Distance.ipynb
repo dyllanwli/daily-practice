{
 "cells": [
  {
   "cell_type": "code",
   "execution_count": 2,
   "metadata": {},
   "outputs": [],
   "source": [
    "class Solution:\n",
    "    def smallestDistancePair(self, nums, k: int) -> int:\n",
    "        pairs = []\n",
    "        for ix,x in enumerate(nums):\n",
    "            for iy, y in enumerate(nums[ix+1:]):\n",
    "                pairs.append(abs(x-y))\n",
    "        \n",
    "        pairs.sort()\n",
    "        # print(pairs)\n",
    "        return pairs[k-1]\n",
    "# that method tooks long time "
   ]
  },
  {
   "cell_type": "code",
   "execution_count": null,
   "metadata": {},
   "outputs": [],
   "source": [
    "class Solution:\n",
    "    def smallestDistancePair(self, nums, k: int) -> int:"
   ]
  }
 ],
 "metadata": {
  "kernelspec": {
   "display_name": "Python 3",
   "language": "python",
   "name": "python3"
  },
  "language_info": {
   "codemirror_mode": {
    "name": "ipython",
    "version": 3
   },
   "file_extension": ".py",
   "mimetype": "text/x-python",
   "name": "python",
   "nbconvert_exporter": "python",
   "pygments_lexer": "ipython3",
   "version": "3.7.1"
  }
 },
 "nbformat": 4,
 "nbformat_minor": 2
}
