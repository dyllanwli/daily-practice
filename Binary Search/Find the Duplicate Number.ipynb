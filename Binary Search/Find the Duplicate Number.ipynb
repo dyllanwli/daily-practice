{
 "cells": [
  {
   "cell_type": "code",
   "execution_count": 54,
   "metadata": {},
   "outputs": [],
   "source": [
    "nums = [3,1,3,4,2]"
   ]
  },
  {
   "cell_type": "code",
   "execution_count": 57,
   "metadata": {},
   "outputs": [],
   "source": [
    "class Solution:\n",
    "    def findDuplicate(self, nums):\n",
    "        p = 0\n",
    "        \n",
    "        while p < len(nums) -1 :\n",
    "            for num in nums[p+1:]:\n",
    "                if num == nums[p]:\n",
    "                    return num\n",
    "            p += 1\n",
    "# abandoned, time exceeded "
   ]
  },
  {
   "cell_type": "code",
   "execution_count": 62,
   "metadata": {},
   "outputs": [],
   "source": [
    "class Solution:\n",
    "    def findDuplicate(self, nums):\n",
    "        left = 0\n",
    "        right = len(nums) - 1\n",
    "        # the reason set left and right is just \n",
    "        # create a unexists list from left to right\n",
    "        # but we don't iterate it, we just use binary search to loop\n",
    "        while left + 1< right :\n",
    "            mid = (left+right) // 2 \n",
    "            count = 0\n",
    "            for num in nums:\n",
    "                if mid < num <= right:\n",
    "                    # if the num is what we want \n",
    "                    # count the num into (n/2,n)\n",
    "                    count += 1\n",
    "            if count > right - mid:\n",
    "                left = mid\n",
    "            else:\n",
    "                right = mid\n",
    "        return right"
   ]
  },
  {
   "cell_type": "code",
   "execution_count": 63,
   "metadata": {},
   "outputs": [
    {
     "data": {
      "text/plain": [
       "3"
      ]
     },
     "execution_count": 63,
     "metadata": {},
     "output_type": "execute_result"
    }
   ],
   "source": [
    "so = Solution()\n",
    "so.findDuplicate(nums)"
   ]
  },
  {
   "cell_type": "code",
   "execution_count": null,
   "metadata": {},
   "outputs": [],
   "source": []
  }
 ],
 "metadata": {
  "kernelspec": {
   "display_name": "Python 3",
   "language": "python",
   "name": "python3"
  },
  "language_info": {
   "codemirror_mode": {
    "name": "ipython",
    "version": 3
   },
   "file_extension": ".py",
   "mimetype": "text/x-python",
   "name": "python",
   "nbconvert_exporter": "python",
   "pygments_lexer": "ipython3",
   "version": "3.7.1"
  }
 },
 "nbformat": 4,
 "nbformat_minor": 2
}
