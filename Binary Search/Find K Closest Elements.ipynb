{
 "cells": [
  {
   "cell_type": "code",
   "execution_count": 31,
   "metadata": {},
   "outputs": [],
   "source": [
    "arr = [1,2,3,4,5]\n",
    "k=4\n",
    "x=3"
   ]
  },
  {
   "cell_type": "code",
   "execution_count": 32,
   "metadata": {},
   "outputs": [],
   "source": [
    "class Solution(object):\n",
    "    def findClosestElements(self, arr, k, x):\n",
    "        \"\"\"\n",
    "        :type arr: List[int]\n",
    "        :type k: int\n",
    "        :type x: int\n",
    "        :rtype: List[int]\n",
    "        \"\"\"\n",
    "\n",
    "        xIndex = arr.index(3)\n",
    "        left = 0\n",
    "        l = len(arr)\n",
    "        right = l - 1\n",
    "        res = []\n",
    "        i = 0\n",
    "        while len(res) < k:\n",
    "            if abs(arr[xIndex-i] - arr[xIndex]) <= abs(arr[xIndex + i] - arr[xIndex]):\n",
    "                res.append(arr[xIndex-i])\n",
    "                i += 1\n",
    "                if i < k - 1:\n",
    "                    res.append(arr[xIndex+i])\n",
    "            elif abs(arr[xIndex-i] - arr[xIndex]) > abs(arr[xIndex + i] - arr[xIndex]):\n",
    "                res.append(arr[xIndex + i])\n",
    "                i += 1\n",
    "            print(xIndex,res)\n",
    "        return res"
   ]
  },
  {
   "cell_type": "code",
   "execution_count": 33,
   "metadata": {},
   "outputs": [
    {
     "name": "stdout",
     "output_type": "stream",
     "text": [
      "2 [3, 4]\n",
      "2 [3, 4, 2, 5]\n"
     ]
    },
    {
     "data": {
      "text/plain": [
       "[3, 4, 2, 5]"
      ]
     },
     "execution_count": 33,
     "metadata": {},
     "output_type": "execute_result"
    }
   ],
   "source": [
    "so = Solution()\n",
    "so.findClosestElements(arr, k, x)"
   ]
  },
  {
   "cell_type": "code",
   "execution_count": null,
   "metadata": {},
   "outputs": [],
   "source": []
  }
 ],
 "metadata": {
  "kernelspec": {
   "display_name": "Python 3",
   "language": "python",
   "name": "python3"
  },
  "language_info": {
   "codemirror_mode": {
    "name": "ipython",
    "version": 3
   },
   "file_extension": ".py",
   "mimetype": "text/x-python",
   "name": "python",
   "nbconvert_exporter": "python",
   "pygments_lexer": "ipython3",
   "version": "3.7.1"
  }
 },
 "nbformat": 4,
 "nbformat_minor": 2
}
