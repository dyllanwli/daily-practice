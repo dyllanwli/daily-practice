{
 "cells": [
  {
   "cell_type": "code",
   "execution_count": null,
   "metadata": {},
   "outputs": [],
   "source": [
    "class Solution:\n",
    "    def nextGreatestLetter(self, letters: List[str], target: str) -> str:\n",
    "        left = 0\n",
    "        right = len(letters) - 1 \n",
    "        ordTarget = ord(target)\n",
    "        delta = ord(letters[0]) - ordTarget\n",
    "        \n",
    "        if delta > 0 or ord(letters[-1]) <= ordTarget :\n",
    "            return letters[0]\n",
    "        while left + 1< right:\n",
    "            mid = (left + right) // 2\n",
    "            if ord(letters[mid]) <= ordTarget:\n",
    "                left = mid\n",
    "            else:\n",
    "                right = mid\n",
    "        print(left, right)\n",
    "        if ord(letters[left]) <= ordTarget and ord(letters[right]) > ordTarget:\n",
    "            return letters[right]\n",
    "        else:\n",
    "            return letters[left]\n",
    "                    \n",
    "                "
   ]
  }
 ],
 "metadata": {
  "kernelspec": {
   "display_name": "Python 3",
   "language": "python",
   "name": "python3"
  },
  "language_info": {
   "codemirror_mode": {
    "name": "ipython",
    "version": 3
   },
   "file_extension": ".py",
   "mimetype": "text/x-python",
   "name": "python",
   "nbconvert_exporter": "python",
   "pygments_lexer": "ipython3",
   "version": "3.7.1"
  }
 },
 "nbformat": 4,
 "nbformat_minor": 2
}
