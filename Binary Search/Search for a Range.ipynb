{
 "cells": [
  {
   "cell_type": "raw",
   "metadata": {},
   "source": [
    "Given an array of integers nums sorted in ascending order, find the starting and ending position of a given target value.\n",
    "\n",
    "Your algorithm's runtime complexity must be in the order of O(log n).\n",
    "\n",
    "If the target is not found in the array, return [-1, -1].\n",
    "\n",
    "Example 1:\n",
    "\n",
    "Input: nums = [5,7,7,8,8,10], target = 8\n",
    "Output: [3,4]\n",
    "Example 2:\n",
    "\n",
    "Input: nums = [5,7,7,8,8,10], target = 6\n",
    "Output: [-1,-1]"
   ]
  },
  {
   "cell_type": "code",
   "execution_count": 1,
   "metadata": {},
   "outputs": [],
   "source": [
    "nums = [5,7,7,8,8,8,10,12,15,16,23]\n",
    "target = 6"
   ]
  },
  {
   "cell_type": "code",
   "execution_count": 2,
   "metadata": {},
   "outputs": [
    {
     "ename": "IndentationError",
     "evalue": "expected an indented block (<ipython-input-2-716f9cea5fbf>, line 4)",
     "output_type": "error",
     "traceback": [
      "\u001b[0;36m  File \u001b[0;32m\"<ipython-input-2-716f9cea5fbf>\"\u001b[0;36m, line \u001b[0;32m4\u001b[0m\n\u001b[0;31m    so = Solution()\u001b[0m\n\u001b[0m                   ^\u001b[0m\n\u001b[0;31mIndentationError\u001b[0m\u001b[0;31m:\u001b[0m expected an indented block\n"
     ]
    }
   ],
   "source": [
    "class Solution:\n",
    "    def searchRange(self, nums, target: int):\n",
    "        left = 0\n",
    "        right = len(nums) - 1\n",
    "        start = 0\n",
    "        end = 0\n",
    "        while left < right:\n",
    "            mid = (left + right) // 2\n",
    "            \n",
    "            if nums[start]\n",
    "            if nums[mid] > target:\n",
    "                right = mid\n",
    "                if nums[mid-1] == target:\n",
    "                    end = mid - 1\n",
    "            elif nums[mid] < target:\n",
    "                left = mid\n",
    "                if nums[mid+1] == target:\n",
    "                    start = mid + 1\n",
    "            elif nums[mid] == target:\n",
    "                \n",
    "so = Solution()"
   ]
  },
  {
   "cell_type": "code",
   "execution_count": null,
   "metadata": {},
   "outputs": [],
   "source": []
  }
 ],
 "metadata": {
  "kernelspec": {
   "display_name": "Python 3",
   "language": "python",
   "name": "python3"
  },
  "language_info": {
   "codemirror_mode": {
    "name": "ipython",
    "version": 3
   },
   "file_extension": ".py",
   "mimetype": "text/x-python",
   "name": "python",
   "nbconvert_exporter": "python",
   "pygments_lexer": "ipython3",
   "version": "3.7.1"
  }
 },
 "nbformat": 4,
 "nbformat_minor": 2
}
