{
 "cells": [
  {
   "cell_type": "raw",
   "metadata": {},
   "source": [
    "There are two sorted arrays nums1 and nums2 of size m and n respectively.\n",
    "\n",
    "Find the median of the two sorted arrays. The overall run time complexity should be O(log (m+n)).\n",
    "\n",
    "You may assume nums1 and nums2 cannot be both empty.\n",
    "\n",
    "Example 1:\n",
    "\n",
    "nums1 = [1, 3]\n",
    "nums2 = [2]\n",
    "\n",
    "The median is 2.0\n",
    "Example 2:\n",
    "\n",
    "nums1 = [1, 2]\n",
    "nums2 = [3, 4]\n",
    "\n",
    "The median is (2 + 3)/2 = 2.5"
   ]
  },
  {
   "cell_type": "markdown",
   "metadata": {},
   "source": [
    "len(left_part) == len(right_part)\n",
    "max(left_part) <= len(right_part)\n",
    "\n",
    "+ then we can divide all elements in {A,B} into two parts with equal length, and one part is always greater than the other. Then median = (max(left_part) + min(right_part))/2\n",
    "\n",
    "+ then we need to ensure\n",
    "- i+j = ( m - i )+ ( n - j ) if n >= m we just need to set i= 0~m, j=(m+n+1)/2 - i\n",
    "- B[j-1] <= A[1] and A[i-1] <= B[j]"
   ]
  },
  {
   "cell_type": "markdown",
   "metadata": {},
   "source": [
    "check this video https://www.youtube.com/watch?time_continue=178&v=LPFhl65R7ww"
   ]
  },
  {
   "cell_type": "code",
   "execution_count": null,
   "metadata": {},
   "outputs": [],
   "source": [
    "class Solution:\n",
    "    def findMedianSortedArrays(self, nums1: List[int], nums2: List[int]) -> float:\n",
    "        m, n = len(nums1), len(nums2)\n",
    "        if m > n:\n",
    "            nums1, nums2, m, n = nums2, nums1, n, m\n",
    "        if n == 0:\n",
    "            return median(m)\n",
    "        ileft, iright, halfLen = 0, m+1, (m+n+1)//2\n",
    "        # nums2 is the smaller one\n",
    "        while ileft <= iright:\n",
    "            i = (ileft + iright)//2\n",
    "            j = halfLen - i\n",
    "            # i means the mid of nums1\n",
    "            # j means the different between i and the mid of whole nums\n",
    "            if i < m and nums2[j-1] > nums1[i]:\n",
    "                # i needs to be bigger cuz the smaller list's min-1 is bigger than that\n",
    "                ileft = i + 1\n",
    "            elif i > 0 and nums1[i-1] > nums2[j]:\n",
    "                # same reason, i needs to be smaller\n",
    "                iright = i - 1\n",
    "            else:\n",
    "                # if i is the perfect\n",
    "                if i == 0: maxLeft = nums2[j-1]\n",
    "                # means the max item in the bigger list is also the nums1[i]\n",
    "                elif j == 0: maxLeft = nums1[i-1]\n",
    "                # is equal to nums2[j]\n",
    "                else: maxLeft = max(nums1[i-1], nums2[j-1])\n",
    "                \n",
    "                if (m+n) % 2 == 1:\n",
    "                    return maxLeft\n",
    "                \n",
    "                if i == m: minRight = nums2[j]\n",
    "                elif j == n: minRight = nums1[i]\n",
    "                else: minRight = min(nums1[i], nums2[j])\n",
    "                \n",
    "                return (maxLeft + minRight) / 2.0\n",
    "                "
   ]
  }
 ],
 "metadata": {
  "kernelspec": {
   "display_name": "Python 3",
   "language": "python",
   "name": "python3"
  },
  "language_info": {
   "codemirror_mode": {
    "name": "ipython",
    "version": 3
   },
   "file_extension": ".py",
   "mimetype": "text/x-python",
   "name": "python",
   "nbconvert_exporter": "python",
   "pygments_lexer": "ipython3",
   "version": "3.7.1"
  }
 },
 "nbformat": 4,
 "nbformat_minor": 2
}
