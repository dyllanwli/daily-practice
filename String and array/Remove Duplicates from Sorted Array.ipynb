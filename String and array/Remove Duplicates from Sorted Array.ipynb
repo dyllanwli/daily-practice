{
 "cells": [
  {
   "cell_type": "code",
   "execution_count": 151,
   "metadata": {},
   "outputs": [],
   "source": [
    "nums = [1,1,1,1,1,1,1]"
   ]
  },
  {
   "cell_type": "code",
   "execution_count": 152,
   "metadata": {},
   "outputs": [],
   "source": [
    "# time limite exceed\n",
    "class Solution:\n",
    "    def removeDuplicates(self, nums) -> int:\n",
    "        index = 0\n",
    "        while index < len(nums) -1:\n",
    "            if index + 1 <= len(nums)-1:\n",
    "                if nums[index] in nums[:index] + nums[index + 1:]:\n",
    "                    nums.pop(index)\n",
    "                else:\n",
    "                    index += 1\n",
    "        return len(nums)\n",
    "so = Solution()"
   ]
  },
  {
   "cell_type": "code",
   "execution_count": 158,
   "metadata": {},
   "outputs": [],
   "source": [
    "nums = [1,1,1,1,1,1,1,2,2,3,4,5,5,5]\n",
    "class Solution:\n",
    "    def removeDuplicates(self, nums) -> int:\n",
    "        if len(nums) < 2:\n",
    "            return len(nums)\n",
    "        index = 1\n",
    "        last = nums[0]\n",
    "        while index <= len(nums) -1:\n",
    "            if nums[index] == last:\n",
    "                nums.pop(index)\n",
    "            else:\n",
    "                index +=1\n",
    "so = Solution()"
   ]
  },
  {
   "cell_type": "code",
   "execution_count": 159,
   "metadata": {},
   "outputs": [],
   "source": [
    "so.removeDuplicates(nums)"
   ]
  },
  {
   "cell_type": "code",
   "execution_count": 160,
   "metadata": {},
   "outputs": [
    {
     "data": {
      "text/plain": [
       "[1, 2, 2, 3, 4, 5, 5, 5]"
      ]
     },
     "execution_count": 160,
     "metadata": {},
     "output_type": "execute_result"
    }
   ],
   "source": [
    "nums"
   ]
  },
  {
   "cell_type": "code",
   "execution_count": null,
   "metadata": {},
   "outputs": [],
   "source": []
  },
  {
   "cell_type": "code",
   "execution_count": null,
   "metadata": {},
   "outputs": [],
   "source": []
  }
 ],
 "metadata": {
  "kernelspec": {
   "display_name": "Python 3",
   "language": "python",
   "name": "python3"
  },
  "language_info": {
   "codemirror_mode": {
    "name": "ipython",
    "version": 3
   },
   "file_extension": ".py",
   "mimetype": "text/x-python",
   "name": "python",
   "nbconvert_exporter": "python",
   "pygments_lexer": "ipython3",
   "version": "3.7.1"
  }
 },
 "nbformat": 4,
 "nbformat_minor": 2
}
