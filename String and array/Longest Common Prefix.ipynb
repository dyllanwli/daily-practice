{
 "cells": [
  {
   "cell_type": "code",
   "execution_count": 60,
   "metadata": {},
   "outputs": [],
   "source": [
    "strs = [\"c\",\"c\",\"c\"]"
   ]
  },
  {
   "cell_type": "code",
   "execution_count": 67,
   "metadata": {},
   "outputs": [],
   "source": [
    "class Solution:\n",
    "    def longestCommonPrefix(self, strs) -> str:\n",
    "        if len(strs) == 0:\n",
    "            return \"\"\n",
    "        if len(strs) == 1:\n",
    "            return strs[0]\n",
    "        keyStr = min(strs, key=len)\n",
    "        #print(keyStr)\n",
    "        for i in range(len(keyStr)):\n",
    "            if i == 0:\n",
    "                tmp = [x for x in strs if x.find(keyStr[:]) == 0]\n",
    "                if len(tmp) == len(strs):\n",
    "                    return keyStr[:]\n",
    "            else:\n",
    "                tmp = [x for x in strs if x.find(keyStr[:0-i]) == 0]\n",
    "            #print(tmp) \n",
    "            if len(tmp) == len(strs):\n",
    "                return keyStr[:-i]\n",
    "        return \"\""
   ]
  },
  {
   "cell_type": "code",
   "execution_count": 68,
   "metadata": {},
   "outputs": [
    {
     "name": "stdout",
     "output_type": "stream",
     "text": [
      "c\n"
     ]
    },
    {
     "data": {
      "text/plain": [
       "'c'"
      ]
     },
     "execution_count": 68,
     "metadata": {},
     "output_type": "execute_result"
    }
   ],
   "source": [
    "s = Solution()\n",
    "s.longestCommonPrefix(strs)"
   ]
  },
  {
   "cell_type": "code",
   "execution_count": 41,
   "metadata": {},
   "outputs": [
    {
     "data": {
      "text/plain": [
       "0"
      ]
     },
     "execution_count": 41,
     "metadata": {},
     "output_type": "execute_result"
    }
   ],
   "source": [
    "\"sdfsdaf\".find(\"sdf\")"
   ]
  },
  {
   "cell_type": "code",
   "execution_count": null,
   "metadata": {},
   "outputs": [],
   "source": []
  }
 ],
 "metadata": {
  "kernelspec": {
   "display_name": "Python 3",
   "language": "python",
   "name": "python3"
  },
  "language_info": {
   "codemirror_mode": {
    "name": "ipython",
    "version": 3
   },
   "file_extension": ".py",
   "mimetype": "text/x-python",
   "name": "python",
   "nbconvert_exporter": "python",
   "pygments_lexer": "ipython3",
   "version": "3.7.1"
  }
 },
 "nbformat": 4,
 "nbformat_minor": 2
}
