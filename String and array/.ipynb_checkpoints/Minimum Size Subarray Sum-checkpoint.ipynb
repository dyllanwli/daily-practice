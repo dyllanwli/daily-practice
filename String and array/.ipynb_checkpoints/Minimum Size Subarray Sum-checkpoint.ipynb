{
 "cells": [
  {
   "cell_type": "raw",
   "metadata": {},
   "source": [
    "Given an array of n positive integers and a positive integer s, find the minimal length of a contiguous subarray of which the sum ≥ s. If there isn't one, return 0 instead.\n",
    "Example: \n",
    "Input: s = 7, nums = [2,3,1,2,4,3]\n",
    "Output: 2\n",
    "Explanation: the subarray [4,3] has the minimal length under the problem constraint.\n",
    "Follow up:\n",
    "If you have figured out the O(n) solution, try coding another solution of which the time complexity is O(n log n). "
   ]
  },
  {
   "cell_type": "code",
   "execution_count": 7,
   "metadata": {},
   "outputs": [],
   "source": [
    "s = 7\n",
    "nums = [2,3,1,2,4,3]"
   ]
  },
  {
   "cell_type": "code",
   "execution_count": 8,
   "metadata": {},
   "outputs": [],
   "source": [
    "class Solution:\n",
    "    def minSubArrayLen(self, s: int, nums) -> int:\n",
    "        total = left = 0\n",
    "        result = len(nums) + 1\n",
    "        for right, n in enumerate(nums):\n",
    "            total += n\n",
    "            while total >= s:\n",
    "                result = min(result, right - left + 1)\n",
    "                total -= nums[left]\n",
    "                left += 1\n",
    "        return result if result <= len(nums) else 0"
   ]
  },
  {
   "cell_type": "code",
   "execution_count": 9,
   "metadata": {},
   "outputs": [
    {
     "data": {
      "text/plain": [
       "2"
      ]
     },
     "execution_count": 9,
     "metadata": {},
     "output_type": "execute_result"
    }
   ],
   "source": [
    "so = Solution()\n",
    "so.minSubArrayLen(s, nums)"
   ]
  },
  {
   "cell_type": "code",
   "execution_count": null,
   "metadata": {},
   "outputs": [],
   "source": [
    "class Solution:\n",
    "    def minSubArrayLen(self, target, nums):\n",
    "        result = len(nums) + 1\n",
    "        for idx, n in enumerate(nums[1:], 1):\n",
    "            nums[idx] = nums[idx - 1] + n\n",
    "        left = 0\n",
    "        for right, n in enumerate(nums):\n",
    "            if n >= target:\n",
    "                left = self.find_left(left, right, nums, target, n)\n",
    "                result = min(result, right - left + 1)\n",
    "        return result if result <= len(nums) else 0\n",
    "\n",
    "    def find_left(self, left, right, nums, target, n):\n",
    "        while left < right:\n",
    "            mid = (left + right) // 2\n",
    "            if n - nums[mid] >= target:\n",
    "                left = mid + 1\n",
    "            else:\n",
    "                right = mid\n",
    "        return left"
   ]
  },
  {
   "cell_type": "code",
   "execution_count": null,
   "metadata": {},
   "outputs": [],
   "source": []
  }
 ],
 "metadata": {
  "kernelspec": {
   "display_name": "Python 3",
   "language": "python",
   "name": "python3"
  },
  "language_info": {
   "codemirror_mode": {
    "name": "ipython",
    "version": 3
   },
   "file_extension": ".py",
   "mimetype": "text/x-python",
   "name": "python",
   "nbconvert_exporter": "python",
   "pygments_lexer": "ipython3",
   "version": "3.7.1"
  }
 },
 "nbformat": 4,
 "nbformat_minor": 2
}
