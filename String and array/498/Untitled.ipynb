{
 "cells": [
  {
   "cell_type": "raw",
   "metadata": {},
   "source": [
    "https://leetcode.com/problems/diagonal-traverse/\n",
    "\n",
    "M*N matrix M row N col"
   ]
  },
  {
   "cell_type": "code",
   "execution_count": 6,
   "metadata": {},
   "outputs": [],
   "source": [
    "input1 = [[1,2,3],\n",
    "          [4,5,6],\n",
    "          [7,8,9]]\n",
    "# 3*3"
   ]
  },
  {
   "cell_type": "code",
   "execution_count": 26,
   "metadata": {},
   "outputs": [
    {
     "data": {
      "text/plain": [
       "3"
      ]
     },
     "execution_count": 26,
     "metadata": {},
     "output_type": "execute_result"
    }
   ],
   "source": [
    "\n",
    "len(input[0])"
   ]
  },
  {
   "cell_type": "code",
   "execution_count": 5,
   "metadata": {},
   "outputs": [],
   "source": [
    "# if not matrix then return "
   ]
  },
  {
   "cell_type": "raw",
   "metadata": {},
   "source": [
    "if the row is not smaller than m then row = m-1; col += 2 change walk direction -- on the bottom side of the matrix\n",
    "if the row is smaller than 0 then row = 0; change walk direction  -- on the top border\n",
    "\n",
    "\n",
    "if the col is not smaller than n at all then col = n -1 row += 2 change walk direction -- on the right side \n",
    "if the col is smaller then 0 then col = 0 change walk direction\n",
    "\n",
    "then loop it \n",
    "\n",
    "you should loop that "
   ]
  },
  {
   "cell_type": "code",
   "execution_count": 31,
   "metadata": {},
   "outputs": [],
   "source": [
    "def main(input):\n",
    "    m = len(input)\n",
    "    n = len(input[0])\n",
    "    result = []\n",
    "    row = 0\n",
    "    col = 0\n",
    "    d = 0\n",
    "    \n",
    "    direction = [\n",
    "        [-1,1],\n",
    "        [1,-1]\n",
    "    ]\n",
    "    # that just [row, col]\n",
    "    # -1 means left or up\n",
    "    # 1 means right or down\n",
    "    for i in range(0, m*n):\n",
    "        print(input[row][col], row, col)\n",
    "        result.append(input[row][col])\n",
    "        row += direction[d][0]\n",
    "        col += direction[d][1]\n",
    "        \n",
    "        if row >= m:\n",
    "            row = m -1; col += 2; d = 1 - d\n",
    "            # d can only got 2 var -- 0 or 1 \n",
    "        if col >= n:\n",
    "            col = n -1; row += 2; d = 1 - d \n",
    "        if row < 0:\n",
    "            row = 0; d = 1 - d\n",
    "        if col < 0:\n",
    "            col = 0; d = 1 - d\n",
    "    return result "
   ]
  },
  {
   "cell_type": "code",
   "execution_count": 32,
   "metadata": {},
   "outputs": [
    {
     "name": "stdout",
     "output_type": "stream",
     "text": [
      "1 0 0\n",
      "2 0 1\n",
      "4 1 0\n",
      "7 2 0\n",
      "5 1 1\n",
      "3 0 2\n",
      "6 1 2\n",
      "8 2 1\n",
      "9 2 2\n"
     ]
    },
    {
     "data": {
      "text/plain": [
       "[1, 2, 4, 7, 5, 3, 6, 8, 9]"
      ]
     },
     "execution_count": 32,
     "metadata": {},
     "output_type": "execute_result"
    }
   ],
   "source": [
    "main(input1)"
   ]
  },
  {
   "cell_type": "code",
   "execution_count": null,
   "metadata": {},
   "outputs": [],
   "source": []
  }
 ],
 "metadata": {
  "kernelspec": {
   "display_name": "Python 3",
   "language": "python",
   "name": "python3"
  },
  "language_info": {
   "codemirror_mode": {
    "name": "ipython",
    "version": 3
   },
   "file_extension": ".py",
   "mimetype": "text/x-python",
   "name": "python",
   "nbconvert_exporter": "python",
   "pygments_lexer": "ipython3",
   "version": "3.7.1"
  }
 },
 "nbformat": 4,
 "nbformat_minor": 2
}
