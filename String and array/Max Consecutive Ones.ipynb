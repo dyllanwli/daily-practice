{
 "cells": [
  {
   "cell_type": "raw",
   "metadata": {},
   "source": [
    "Given a binary array, find the maximum number of consecutive 1s in this array.\n",
    "Example 1:\n",
    "Input: [1,1,0,1,1,1]\n",
    "Output: 3\n",
    "Explanation: The first two digits or the last three digits are consecutive 1s.\n",
    "    The maximum number of consecutive 1s is 3.\n",
    "\n",
    "Note: \n",
    "The input array will only contain 0 and 1.\n",
    "The length of input array is a positive integer and will not exceed 10,000"
   ]
  },
  {
   "cell_type": "code",
   "execution_count": 1,
   "metadata": {},
   "outputs": [],
   "source": [
    "input = [1,1,0,1,1,1]"
   ]
  },
  {
   "cell_type": "code",
   "execution_count": 22,
   "metadata": {},
   "outputs": [],
   "source": [
    "def main(nums):\n",
    "    return len(max(\"\".join(str(x) for x in nums).split(\"0\"), key=len))"
   ]
  },
  {
   "cell_type": "code",
   "execution_count": 23,
   "metadata": {},
   "outputs": [
    {
     "data": {
      "text/plain": [
       "3"
      ]
     },
     "execution_count": 23,
     "metadata": {},
     "output_type": "execute_result"
    }
   ],
   "source": [
    "main(input)"
   ]
  },
  {
   "cell_type": "code",
   "execution_count": null,
   "metadata": {},
   "outputs": [],
   "source": []
  }
 ],
 "metadata": {
  "kernelspec": {
   "display_name": "Python 3",
   "language": "python",
   "name": "python3"
  },
  "language_info": {
   "codemirror_mode": {
    "name": "ipython",
    "version": 3
   },
   "file_extension": ".py",
   "mimetype": "text/x-python",
   "name": "python",
   "nbconvert_exporter": "python",
   "pygments_lexer": "ipython3",
   "version": "3.7.1"
  }
 },
 "nbformat": 4,
 "nbformat_minor": 2
}
