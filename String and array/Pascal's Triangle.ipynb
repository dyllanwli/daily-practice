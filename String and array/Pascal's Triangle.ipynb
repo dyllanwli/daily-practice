{
 "cells": [
  {
   "cell_type": "code",
   "execution_count": null,
   "metadata": {},
   "outputs": [],
   "source": [
    "class Solution:\n",
    "    def generate(self, numRows: int):\n",
    "        result = [[1], [1,1]]\n",
    "        if numRows == 0:\n",
    "            return []\n",
    "        if numRows == 1:\n",
    "            return [result[0]]\n",
    "        elif numRows == 2:\n",
    "            return result\n",
    "        for i in range(2, numRows):\n",
    "            current = [1] + [result[i-1][x-1] + result[i-1][x] for x in range(1, i) ] + [1]\n",
    "            result.append(current)\n",
    "        return result"
   ]
  },
  {
   "cell_type": "code",
   "execution_count": 2,
   "metadata": {},
   "outputs": [
    {
     "data": {
      "text/plain": [
       "[[1],\n",
       " [1, 1],\n",
       " [1, 2, 1],\n",
       " [1, 3, 3, 1],\n",
       " [1, 4, 6, 4, 1],\n",
       " [1, 5, 10, 10, 5, 1],\n",
       " [1, 6, 15, 20, 15, 6, 1],\n",
       " [1, 7, 21, 35, 35, 21, 7, 1],\n",
       " [1, 8, 28, 56, 70, 56, 28, 8, 1],\n",
       " [1, 9, 36, 84, 126, 126, 84, 36, 9, 1]]"
      ]
     },
     "execution_count": 2,
     "metadata": {},
     "output_type": "execute_result"
    }
   ],
   "source": [
    "s = Solution()\n",
    "s.generate(10)"
   ]
  },
  {
   "cell_type": "code",
   "execution_count": null,
   "metadata": {},
   "outputs": [],
   "source": []
  },
  {
   "cell_type": "code",
   "execution_count": null,
   "metadata": {},
   "outputs": [],
   "source": []
  }
 ],
 "metadata": {
  "kernelspec": {
   "display_name": "Python 3",
   "language": "python",
   "name": "python3"
  },
  "language_info": {
   "codemirror_mode": {
    "name": "ipython",
    "version": 3
   },
   "file_extension": ".py",
   "mimetype": "text/x-python",
   "name": "python",
   "nbconvert_exporter": "python",
   "pygments_lexer": "ipython3",
   "version": "3.7.1"
  }
 },
 "nbformat": 4,
 "nbformat_minor": 2
}
